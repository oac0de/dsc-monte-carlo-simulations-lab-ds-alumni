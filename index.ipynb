{
 "cells": [
  {
   "cell_type": "markdown",
   "metadata": {},
   "source": [
    "# Monte Carlo Simulations - Lab\n",
    "\n",
    "## Introduction\n",
    "\n",
    "In order to calculate the precise probability of an event occurring, one needs to know the number of occurrences and the number of possible outcomes. If there are a large number of variables, these sample spaces can explode very quickly. Often, these spaces are so large that analyzing all possible outcomes is not  possible. As an alternative, these large sets can be approximated using Monte Carlo simulations. In this lab, you will conduct a Monte Carlo simulation of a permutation test that would otherwise be infeasible to compute.\n",
    "\n",
    "\n",
    "## Objectives \n",
    "\n",
    "In this lab you will:\n",
    "- Conduct a Monte Carlo simulation"
   ]
  },
  {
   "cell_type": "markdown",
   "metadata": {},
   "source": [
    "## Exploding sample sizes\n",
    "\n",
    "As we discussed in the previous lesson, permutation test sizes can quickly explode as our original sample sizes grow. To demonstrate this, create a graph to show how the number of permutations increases as we increase just one of the sample sizes. Assume that our first sample is of 25 individuals. From there, plot a graph of how the permutation test sample size increases drastically as our second sample increases from 10 to 200 individuals. (Assume that every new person has a unique blood pressure; a stretch of an assumption, but greatly simplifies our calculations for now.)"
   ]
  },
  {
   "cell_type": "code",
   "execution_count": 1,
   "metadata": {
    "ExecuteTime": {
     "end_time": "2021-01-03T16:03:36.957869Z",
     "start_time": "2021-01-03T16:03:36.575827Z"
    }
   },
   "outputs": [],
   "source": [
    "import numpy as np\n",
    "import matplotlib.pyplot as plt\n",
    "%matplotlib inline\n",
    "from scipy.special import comb"
   ]
  },
  {
   "cell_type": "code",
   "execution_count": 12,
   "metadata": {
    "ExecuteTime": {
     "end_time": "2021-01-03T16:12:00.957797Z",
     "start_time": "2021-01-03T16:12:00.767319Z"
    }
   },
   "outputs": [
    {
     "data": {
      "image/png": "[encoded data removed]",
      "text/plain": [
       "<Figure size 720x720 with 1 Axes>"
      ]
     },
     "metadata": {
      "needs_background": "light"
     },
     "output_type": "display_data"
    }
   ],
   "source": [
    "x = []\n",
    "y = []\n",
    "first_sample = 25\n",
    "for second_sample in range(10, 200):\n",
    "    x.append(second_sample)\n",
    "    y.append(comb(first_sample + second_sample, first_sample))\n",
    "plt.figure(figsize=(10, 10))\n",
    "plt.plot(x, y)\n",
    "plt.title('Exploding sample size of permutations with variable 2nd sample size')\n",
    "plt.xlabel('second sample size')\n",
    "plt.ylabel('Number of combinations for permutation test');"
   ]
  },
  {
   "cell_type": "markdown",
   "metadata": {},
   "source": [
    "## Creating the Monte Carlo simulation\n",
    "\n",
    "Let's expand upon our blood pressure example from the Resampling methods lab. Even with our previous sample sizes of a sample of 14 and a sample of 12, we had a total of over 9 million possible outcomes. As you can see from the graph above, this quantity continues to rapidly increase. As a result, it is often impractical or impossible to calculate all possible variations. Instead, use a Monte Carlo simulation to sample from the sample space in order to emulate a permutation test. While a precise simulation of a permutation test would record which ordered combinations we have already simulated, doing so greatly reduces the speed of the process. Below are the complete samples of two populations' blood pressure.  \n",
    "  \n",
    "Write a Monte Carlo simulation to sample from the permutation space. Be sure to not allow replacement so that no cases are repeated. Calculate the p-value after `10, 100, 500, 1000, 10**4, 10**5, 10**6, 2*10**6 and 5*10**6` iterations. Graph these to show how the p-value stabilizes and converges after a large number of iterations."
   ]
  },
  {
   "cell_type": "code",
   "execution_count": 13,
   "metadata": {
    "ExecuteTime": {
     "end_time": "2021-01-03T16:15:01.909645Z",
     "start_time": "2021-01-03T16:15:01.902893Z"
    }
   },
   "outputs": [],
   "source": [
    "a = [109.6927759 , 120.27296943, 103.54012038, 114.16555857,\n",
    "       122.93336175, 110.9271756 , 114.77443758, 116.34159338,\n",
    "       130.72888419, 116.04552895, 114.8313492 , 117.52704641,\n",
    "       109.06597142, 117.0317262 , 114.34876391, 111.32151926,\n",
    "       108.90594481, 110.95040527,  99.15890727, 117.93581615,\n",
    "       106.35644209, 112.88102458, 103.87574946, 111.88394265,\n",
    "       115.42450119, 124.02872282, 116.19121625, 115.59471365,\n",
    "       112.66413025, 118.30562665, 132.31196515, 117.99000948]\n",
    "b = [123.98967482, 141.11969004, 117.00293412, 121.6419775 ,\n",
    "       123.2703033 , 123.76944385, 105.95249634, 114.87114479,\n",
    "       110.50162354, 121.31836918, 124.9483451 , 126.04639783,\n",
    "       119.71433463, 117.49416398, 129.47657837, 115.57798929,\n",
    "       117.36035264, 130.92919224, 104.43218778, 119.97610071,\n",
    "       115.67085089, 113.77487389, 114.02470379, 116.64660978,\n",
    "       117.3023355 , 116.30944159, 123.66560428, 117.87222118,\n",
    "       128.8445079 , 111.7976685 , 117.25730744, 111.62121119,\n",
    "       110.12277446, 112.7150916 , 129.21006268, 125.97287311,\n",
    "       130.6878082 , 140.60768727, 121.95433026, 123.11996767,\n",
    "       129.93260914, 121.01049611, 129.23680238]"
   ]
  },
  {
   "cell_type": "code",
   "execution_count": 14,
   "metadata": {
    "ExecuteTime": {
     "end_time": "2021-01-03T16:28:54.937585Z",
     "start_time": "2021-01-03T16:21:26.967616Z"
    },
    "scrolled": true
   },
   "outputs": [
    {
     "name": "stdout",
     "output_type": "stream",
     "text": [
      "After 10 iterations p-value is: 1.0\n",
      "After 100 iterations p-value is: 1.0\n",
      "After 500 iterations p-value is: 0.998003992015968\n",
      "After 1000 iterations p-value is: 0.999000999000999\n",
      "After 10000 iterations p-value is: 0.9993000699930007\n",
      "After 100000 iterations p-value is: 0.999530004699953\n",
      "After 1000000 iterations p-value is: 0.9995680004319996\n",
      "After 2000000 iterations p-value is: 0.9995595002202499\n"
     ]
    }
   ],
   "source": [
    "diff_of_pop_mean = np.mean(a) - np.mean(b)\n",
    "num = 0\n",
    "denom = 0\n",
    "union = a + b\n",
    "for i in range(5*10**6):\n",
    "    #generate ai\n",
    "    ai = np.random.choice(union, size=len(a), replace=False)\n",
    "    #generate its compliment as bi\n",
    "    bi = union.copy()\n",
    "    for item in ai:\n",
    "        bi.remove(item)\n",
    "    diff_of_sample_mean = np.mean(ai) - np.mean(bi)\n",
    "    if diff_of_sample_mean >= diff_of_pop_mean:\n",
    "        num += 1\n",
    "    denom += 1\n",
    "    #compute difference in means\n",
    "    if i in [10, 100, 500, 1000, 10**4, 10**5, 10**6, 2*10**6, 5*10**6]:\n",
    "        print(\"After {} iterations p-value is: {}\".format(i, num/denom))"
   ]
  },
  {
   "cell_type": "markdown",
   "metadata": {},
   "source": [
    "## Summary\n",
    "\n",
    "In this lab you simulated a permutation test and observed both how sample sizes can explode rapidly and how p-values will converge over time in a simulation."
   ]
  },
  {
   "cell_type": "markdown",
   "metadata": {},
   "source": [
    "# EXTRA: Roulette Simulation"
   ]
  },
  {
   "cell_type": "code",
   "execution_count": 20,
   "metadata": {
    "ExecuteTime": {
     "end_time": "2021-01-04T00:57:36.759670Z",
     "start_time": "2021-01-04T00:57:36.756797Z"
    }
   },
   "outputs": [],
   "source": [
    "import random"
   ]
  },
  {
   "cell_type": "code",
   "execution_count": 45,
   "metadata": {
    "ExecuteTime": {
     "end_time": "2021-01-04T13:52:50.076017Z",
     "start_time": "2021-01-04T13:52:45.862707Z"
    }
   },
   "outputs": [
    {
     "name": "stdout",
     "output_type": "stream",
     "text": [
      "100 spins of Roulette\n",
      "Expected return betting 5 = -64.0%\n",
      "\n",
      "100 spins of Roulette\n",
      "Expected return betting 5 = 44.0%\n",
      "\n",
      "100 spins of Roulette\n",
      "Expected return betting 5 = 8.0%\n",
      "\n",
      "1000 spins of Roulette\n",
      "Expected return betting 5 = 4.4%\n",
      "\n",
      "1000 spins of Roulette\n",
      "Expected return betting 5 = 11.6%\n",
      "\n",
      "1000 spins of Roulette\n",
      "Expected return betting 5 = -2.8%\n",
      "\n",
      "10000 spins of Roulette\n",
      "Expected return betting 5 = -6.4%\n",
      "\n",
      "10000 spins of Roulette\n",
      "Expected return betting 5 = 3.68%\n",
      "\n",
      "10000 spins of Roulette\n",
      "Expected return betting 5 = -5.68%\n",
      "\n",
      "100000 spins of Roulette\n",
      "Expected return betting 5 = 1.484%\n",
      "\n",
      "100000 spins of Roulette\n",
      "Expected return betting 5 = -0.712%\n",
      "\n",
      "100000 spins of Roulette\n",
      "Expected return betting 5 = -1.864%\n",
      "\n",
      "1000000 spins of Roulette\n",
      "Expected return betting 5 = 0.8684%\n",
      "\n",
      "1000000 spins of Roulette\n",
      "Expected return betting 5 = -0.2116%\n",
      "\n",
      "1000000 spins of Roulette\n",
      "Expected return betting 5 = 0.1448%\n",
      "\n"
     ]
    }
   ],
   "source": [
    "class roulette():\n",
    "    def __init__(self):\n",
    "        self.pockets = []\n",
    "        for i in range(1, 37):\n",
    "            self.pockets.append(i)\n",
    "        self.ball = None\n",
    "        self.pocketOdds = len(self.pockets) - 1\n",
    "    def spin(self):\n",
    "        self.ball = random.choice(self.pockets)\n",
    "    def betPocket(self, pocket, amount):\n",
    "        if str(pocket) == str(self.ball):\n",
    "            return amount*self.pocketOdds\n",
    "        else: \n",
    "            return -amount\n",
    "    def __str__(self):\n",
    "        return 'Roulette' \n",
    "    \n",
    "def play_roulette(game, numSpins, pocket, bet):\n",
    "    totPocket = 0\n",
    "    for i in range(numSpins):\n",
    "        game.spin()\n",
    "        totPocket += game.betPocket(pocket, bet)\n",
    "    print(numSpins, 'spins of', game)\n",
    "    print('Expected return betting', pocket, '=',  str(100*totPocket/numSpins) + '%\\n')\n",
    "    return (totPocket/numSpins)\n",
    "\n",
    "random.seed(1)\n",
    "game = roulette()\n",
    "for numSpins in (100, 1000, 10000, 100000, 1000000):\n",
    "    for i in range(3):\n",
    "        play_roulette(game, numSpins, 5, 1)"
   ]
  },
  {
   "cell_type": "code",
   "execution_count": 46,
   "metadata": {
    "ExecuteTime": {
     "end_time": "2021-01-04T14:00:32.663386Z",
     "start_time": "2021-01-04T14:00:32.659035Z"
    }
   },
   "outputs": [
    {
     "data": {
      "text/plain": [
       "-4.0"
      ]
     },
     "execution_count": 46,
     "metadata": {},
     "output_type": "execute_result"
    }
   ],
   "source": [
    "(-64 + 44 + 8)/3"
   ]
  },
  {
   "cell_type": "code",
   "execution_count": 48,
   "metadata": {
    "ExecuteTime": {
     "end_time": "2021-01-04T14:01:12.039017Z",
     "start_time": "2021-01-04T14:01:12.034433Z"
    }
   },
   "outputs": [
    {
     "data": {
      "text/plain": [
       "4.3999999999999995"
      ]
     },
     "execution_count": 48,
     "metadata": {},
     "output_type": "execute_result"
    }
   ],
   "source": [
    "(4.4 + 11.6 + -2.8)/3"
   ]
  },
  {
   "cell_type": "code",
   "execution_count": 49,
   "metadata": {
    "ExecuteTime": {
     "end_time": "2021-01-04T14:01:43.976031Z",
     "start_time": "2021-01-04T14:01:43.971321Z"
    }
   },
   "outputs": [
    {
     "data": {
      "text/plain": [
       "-2.8000000000000003"
      ]
     },
     "execution_count": 49,
     "metadata": {},
     "output_type": "execute_result"
    }
   ],
   "source": [
    "(-6.4 + 3.68 + -5.68)/3"
   ]
  },
  {
   "cell_type": "code",
   "execution_count": 50,
   "metadata": {
    "ExecuteTime": {
     "end_time": "2021-01-04T14:05:36.056578Z",
     "start_time": "2021-01-04T14:05:36.051913Z"
    }
   },
   "outputs": [
    {
     "data": {
      "text/plain": [
       "-0.36400000000000005"
      ]
     },
     "execution_count": 50,
     "metadata": {},
     "output_type": "execute_result"
    }
   ],
   "source": [
    "(1.484 + -.712 + -1.864)/3"
   ]
  },
  {
   "cell_type": "code",
   "execution_count": 51,
   "metadata": {
    "ExecuteTime": {
     "end_time": "2021-01-04T14:06:46.616112Z",
     "start_time": "2021-01-04T14:06:46.611604Z"
    }
   },
   "outputs": [
    {
     "data": {
      "text/plain": [
       "0.4082666666666667"
      ]
     },
     "execution_count": 51,
     "metadata": {},
     "output_type": "execute_result"
    }
   ],
   "source": [
    "(.8684 + .2116 + .1448)/3"
   ]
  }
 ],
 "metadata": {
  "kernelspec": {
   "display_name": "Python 3",
   "language": "python",
   "name": "python3"
  },
  "language_info": {
   "codemirror_mode": {
    "name": "ipython",
    "version": 3
   },
   "file_extension": ".py",
   "mimetype": "text/x-python",
   "name": "python",
   "nbconvert_exporter": "python",
   "pygments_lexer": "ipython3",
   "version": "3.6.9"
  },
  "toc": {
   "base_numbering": 1,
   "nav_menu": {},
   "number_sections": true,
   "sideBar": true,
   "skip_h1_title": false,
   "title_cell": "Table of Contents",
   "title_sidebar": "Contents",
   "toc_cell": false,
   "toc_position": {},
   "toc_section_display": true,
   "toc_window_display": false
  },
  "varInspector": {
   "cols": {
    "lenName": 16,
    "lenType": 16,
    "lenVar": 40
   },
   "kernels_config": {
    "python": {
     "delete_cmd_postfix": "",
     "delete_cmd_prefix": "del ",
     "library": "var_list.py",
     "varRefreshCmd": "print(var_dic_list())"
    },
    "r": {
     "delete_cmd_postfix": ") ",
     "delete_cmd_prefix": "rm(",
     "library": "var_list.r",
     "varRefreshCmd": "cat(var_dic_list()) "
    }
   },
   "types_to_exclude": [
    "module",
    "function",
    "builtin_function_or_method",
    "instance",
    "_Feature"
   ],
   "window_display": false
  }
 },
 "nbformat": 4,
 "nbformat_minor": 2
}
